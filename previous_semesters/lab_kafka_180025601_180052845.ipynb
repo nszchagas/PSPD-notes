{
 "cells": [
  {
   "cell_type": "markdown",
   "id": "b4ccd699",
   "metadata": {},
   "source": [
    "# Laboratório Kafka\n",
    "## Alunos\n",
    "\n",
    "**Gabriela da Gama Pivetta - 180052845**\n",
    "\n",
    "**Murilo Gomes de Souza - 180025601**"
   ]
  },
  {
   "cell_type": "code",
   "execution_count": 1,
   "id": "15cec09d",
   "metadata": {},
   "outputs": [],
   "source": [
    "from pyspark.sql import SparkSession"
   ]
  },
  {
   "cell_type": "code",
   "execution_count": 2,
   "id": "b6145f25",
   "metadata": {},
   "outputs": [
    {
     "name": "stderr",
     "output_type": "stream",
     "text": [
      "Setting default log level to \"WARN\".\n",
      "To adjust logging level use sc.setLogLevel(newLevel). For SparkR, use setLogLevel(newLevel).\n"
     ]
    },
    {
     "name": "stdout",
     "output_type": "stream",
     "text": [
      "23/05/08 21:49:40 WARN NativeCodeLoader: Unable to load native-hadoop library for your platform... using builtin-java classes where applicable\n",
      "23/05/08 21:49:41 WARN Utils: Service 'SparkUI' could not bind on port 4040. Attempting port 4041.\n"
     ]
    }
   ],
   "source": [
    "spark = SparkSession.builder.master(\"spark://cm1:7077\").appName(\"testekafka-180025601\").getOrCreate()"
   ]
  },
  {
   "cell_type": "code",
   "execution_count": 82,
   "id": "b9bb638d",
   "metadata": {},
   "outputs": [
    {
     "name": "stdout",
     "output_type": "stream",
     "text": [
      "23/05/08 22:15:20 WARN TextSocketSourceProvider: The socket source should not be used for production applications! It does not support recovery.\n"
     ]
    }
   ],
   "source": [
    "lines = spark.readStream \\\n",
    "        .format(\"socket\") \\\n",
    "        .option(\"host\",\"cm4\") \\\n",
    "        .option(\"port\",\"9044\") \\\n",
    "        .option('includeTimestamp', 'true') \\\n",
    "        .load()"
   ]
  },
  {
   "cell_type": "code",
   "execution_count": 83,
   "id": "fb6eb929",
   "metadata": {},
   "outputs": [],
   "source": [
    "from pyspark.sql.functions import explode, split, col, window, to_json, upper, struct, lit"
   ]
  },
  {
   "cell_type": "code",
   "execution_count": 84,
   "id": "87c329f9",
   "metadata": {},
   "outputs": [],
   "source": [
    "words = lines \\\n",
    "    .select(\n",
    "        explode(split(col(\"value\"), \"\\s+\")).alias(\"word\"),\n",
    "        lines.timestamp\n",
    "    ).select(\n",
    "        upper(col(\"word\")).alias(\"word\"),\n",
    "        col(\"timestamp\")\n",
    "    )\n"
   ]
  },
  {
   "cell_type": "code",
   "execution_count": 85,
   "id": "e9f3a08b",
   "metadata": {},
   "outputs": [],
   "source": [
    "wordCounts = words.withWatermark(\"timestamp\", '10 seconds') \\\n",
    "    .groupBy(\n",
    "        window(words.timestamp, '10 seconds', '10 seconds'),\n",
    "        col(\"word\")\n",
    "    ).count()"
   ]
  },
  {
   "cell_type": "code",
   "execution_count": 97,
   "id": "8ca1518a",
   "metadata": {},
   "outputs": [],
   "source": [
    "wordCountsJson = wordCounts.select(\n",
    "        lit('1').alias('key'),\n",
    "        to_json(struct('word', 'count')).alias('value')\n",
    "    )"
   ]
  },
  {
   "cell_type": "code",
   "execution_count": 95,
   "id": "728f7ebd",
   "metadata": {},
   "outputs": [
    {
     "name": "stdout",
     "output_type": "stream",
     "text": [
      "23/05/08 22:22:57 WARN ResolveWriteToStream: spark.sql.adaptive.enabled is not supported in streaming DataFrames/Datasets and will be disabled.\n"
     ]
    },
    {
     "name": "stderr",
     "output_type": "stream",
     "text": [
      "                                                                                \r"
     ]
    }
   ],
   "source": [
    "wordCountsJson.writeStream.outputMode('update').format(\"kafka\") \\\n",
    " .option(\"kafka.bootstrap.servers\", \"cm4:9092\") \\\n",
    " .option(\"topic\", \"student-a180025601-saida\") \\\n",
    " .option('checkpointLocation', '/tmp/spark-a180025601') \\\n",
    " .trigger(processingTime='10 seconds') \\\n",
    " .start()"
   ]
  }
 ],
 "metadata": {
  "kernelspec": {
   "display_name": "Python 3 (ipykernel)",
   "language": "python",
   "name": "python3"
  },
  "language_info": {
   "codemirror_mode": {
    "name": "ipython",
    "version": 3
   },
   "file_extension": ".py",
   "mimetype": "text/x-python",
   "name": "python",
   "nbconvert_exporter": "python",
   "pygments_lexer": "ipython3",
   "version": "3.10.6"
  }
 },
 "nbformat": 4,
 "nbformat_minor": 5
}
