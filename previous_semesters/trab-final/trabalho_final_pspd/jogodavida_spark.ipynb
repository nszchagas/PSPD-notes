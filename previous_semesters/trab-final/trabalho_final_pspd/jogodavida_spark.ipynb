{
 "cells": [
  {
   "cell_type": "code",
   "execution_count": 84,
   "id": "69062088",
   "metadata": {},
   "outputs": [],
   "source": [
    "from pyspark import SparkContext, SparkConf\n",
    "from pyspark.sql import SparkSession\n",
    "spark = SparkSession.builder.master(\"spark://cm1:7077\").appName(\"LifeGame00001\").getOrCreate()\n"
   ]
  },
  {
   "cell_type": "code",
   "execution_count": null,
   "id": "904181ae",
   "metadata": {},
   "outputs": [
    {
     "name": "stderr",
     "output_type": "stream",
     "text": [
      "                                                                                \r"
     ]
    },
    {
     "name": "stdout",
     "output_type": "stream",
     "text": [
      " tam=8 **Ok, RESULTADO CORRETO**\n",
      " time=8.283813238143921\n",
      " tam=16 **Ok, RESULTADO CORRETO**\n",
      " time=8.375973463058472\n",
      " tam=32 **Ok, RESULTADO CORRETO**\n",
      " time=18.700819969177246\n",
      " tam=64 **Ok, RESULTADO CORRETO**\n",
      " time=40.72215127944946\n",
      " tam=128 **Ok, RESULTADO CORRETO**\n",
      " time=86.22166776657104\n",
      " tam=256 **Ok, RESULTADO CORRETO**\n",
      " time=234.15412831306458\n",
      " tam=512 **Ok, RESULTADO CORRETO**\n",
      " time=954.4769561290741\n"
     ]
    },
    {
     "name": "stderr",
     "output_type": "stream",
     "text": [
      "                                                                                \r"
     ]
    }
   ],
   "source": [
    "from pyspark import SparkContext, SparkConf\n",
    "from pyspark.sql import SparkSession\n",
    "# import numpy as np\n",
    "import time\n",
    "\n",
    "# Funções do código original\n",
    "def ind2d(i, j, tam):\n",
    "    return i * (tam + 2) + j\n",
    "\n",
    "def calculaVida(x, tabulIn):\n",
    "    i = x[0]\n",
    "    j = x[1]\n",
    "    tam = x[2]\n",
    "    if (i == 0 or j == 0 or i == tam + 1 or j == tam + 1):\n",
    "        return 0\n",
    "    \n",
    "    vizviv = tabulIn[ind2d(i - 1, j - 1, tam)] + tabulIn[ind2d(i - 1, j, tam)] + \\\n",
    "             tabulIn[ind2d(i - 1, j + 1, tam)] + tabulIn[ind2d(i, j - 1, tam)] + \\\n",
    "             tabulIn[ind2d(i, j + 1, tam)] + tabulIn[ind2d(i + 1, j - 1, tam)] + \\\n",
    "             tabulIn[ind2d(i + 1, j, tam)] + tabulIn[ind2d(i + 1, j + 1, tam)]\n",
    "    if tabulIn[ind2d(i, j, tam)] and vizviv < 2:\n",
    "        return 0\n",
    "    elif tabulIn[ind2d(i, j, tam)] and vizviv > 3:\n",
    "        return 0\n",
    "    elif not tabulIn[ind2d(i, j, tam)] and vizviv == 3:\n",
    "        return 1\n",
    "    else:\n",
    "        return tabulIn[ind2d(i, j, tam)]\n",
    "    \n",
    "\n",
    "def UmaVida(tam, tabulIn):\n",
    "    tabul_out = []\n",
    "    for i in range(0, tam + 2):\n",
    "        for j in range(0, tam + 2):\n",
    "            tabul_out.append([i, j, tam])\n",
    "            \n",
    "    rdd_tabul_out = spark.sparkContext.parallelize(tabul_out).map(lambda x: calculaVida(x, tabulIn))    \n",
    "        \n",
    "    return rdd_tabul_out.collect()\n",
    "\n",
    "def InitTabul(tam):\n",
    "    tabulIn = [0] * (tam + 2) * (tam + 2)\n",
    "    \n",
    "    tabulIn[ind2d(1, 2, tam)] = 1;\n",
    "    tabulIn[ind2d(2, 3, tam)] = 1;\n",
    "    tabulIn[ind2d(3, 1, tam)] = 1;\n",
    "    tabulIn[ind2d(3, 2, tam)] = 1;\n",
    "    tabulIn[ind2d(3, 3, tam)] = 1;\n",
    "    return tabulIn\n",
    "\n",
    "def Correto(tam, tabul):\n",
    "    cnt = sum(tabul)\n",
    "    return (cnt == 5 and tabul[ind2d(tam - 2, tam - 1, tam)] and\n",
    "            tabul[ind2d(tam - 1, tam, tam)] and tabul[ind2d(tam, tam - 2, tam)] and\n",
    "            tabul[ind2d(tam, tam - 1, tam)] and tabul[ind2d(tam, tam, tam)])\n",
    "\n",
    "def process_board(tam):\n",
    "    t0 = time.time()\n",
    "    tabulIn = InitTabul(tam)\n",
    "    \n",
    "    for i in range(2 * (tam - 3)):\n",
    "        tabulOut = UmaVida(tam, tabulIn)\n",
    "        tabulIn = UmaVida(tam, tabulOut)\n",
    "    t1 = time.time()\n",
    "    return tabulIn, t1 - t0\n",
    "\n",
    "# Configuração do ambiente Spark\n",
    "\n",
    "\n",
    "# Número de tamanhos do tabuleiro a serem processados\n",
    "POWMIN = 3\n",
    "POWMAX = 10\n",
    "\n",
    "# Para todos os tamanhos do tabuleiro, processa em paralelo\n",
    "results = []\n",
    "for pow in range(POWMIN, POWMAX + 1):\n",
    "    tam = 1 << pow\n",
    "    tabul, time_elapsed = process_board(tam)\n",
    "    if Correto(tam, tabul):\n",
    "        print(f\" tam={tam} **Ok, RESULTADO CORRETO**\")\n",
    "        print(f\" time={time_elapsed}\")\n",
    "    else:\n",
    "        print(f\" tam={tam} **Nok, RESULTADO ERRADO**\")\n",
    "        print(f\" time={time_elapsed}\")\n",
    "    \n",
    "\n",
    "# Encerra o Spark\n",
    "spark.stop()\n"
   ]
  },
  {
   "cell_type": "code",
   "execution_count": null,
   "id": "6cd4765e",
   "metadata": {},
   "outputs": [],
   "source": []
  }
 ],
 "metadata": {
  "kernelspec": {
   "display_name": "Python 3 (ipykernel)",
   "language": "python",
   "name": "python3"
  },
  "language_info": {
   "codemirror_mode": {
    "name": "ipython",
    "version": 3
   },
   "file_extension": ".py",
   "mimetype": "text/x-python",
   "name": "python",
   "nbconvert_exporter": "python",
   "pygments_lexer": "ipython3",
   "version": "3.10.6"
  }
 },
 "nbformat": 4,
 "nbformat_minor": 5
}
